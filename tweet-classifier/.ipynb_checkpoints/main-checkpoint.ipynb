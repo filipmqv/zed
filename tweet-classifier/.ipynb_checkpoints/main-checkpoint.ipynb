{
 "cells": [
  {
   "cell_type": "markdown",
   "metadata": {},
   "source": [
    "Import libaries"
   ]
  },
  {
   "cell_type": "code",
   "execution_count": 1,
   "metadata": {
    "collapsed": true
   },
   "outputs": [],
   "source": [
    "import pandas as pd\n",
    "import numpy as np\n",
    "import gensim, logging, nltk, re, string\n",
    "from sklearn.linear_model import LogisticRegression\n",
    "\n",
    "logging.basicConfig(format='%(asctime)s : %(levelname)s : %(message)s', level=logging.INFO)"
   ]
  },
  {
   "cell_type": "markdown",
   "metadata": {},
   "source": [
    "Read data and drop NAs"
   ]
  },
  {
   "cell_type": "code",
   "execution_count": 4,
   "metadata": {
    "collapsed": true
   },
   "outputs": [],
   "source": [
    "tweets_train = pd.read_csv(\"data/train.csv\", dtype=str, encoding='utf-8', sep=\",\", header=0, index_col=None, na_values='Not Available').dropna()\n",
    "tweets_test = pd.read_csv(\"data/test.csv\", dtype=str, encoding='utf-8', sep=\",\", header=0, index_col=None)\n",
    "tweets_test.rename(columns = {'Category':'Tweet'}, inplace = True)"
   ]
  },
  {
   "cell_type": "markdown",
   "metadata": {},
   "source": [
    "Plot number of tweets in each category"
   ]
  },
  {
   "cell_type": "code",
   "execution_count": 31,
   "metadata": {
    "collapsed": false
   },
   "outputs": [
    {
     "data": {
      "text/plain": [
       "<matplotlib.axes._subplots.AxesSubplot at 0x7f56820de518>"
      ]
     },
     "execution_count": 31,
     "metadata": {},
     "output_type": "execute_result"
    },
    {
     "data": {
      "image/png": "[encoded data removed]",
      "text/plain": [
       "<matplotlib.figure.Figure at 0x7f56820cb2b0>"
      ]
     },
     "metadata": {},
     "output_type": "display_data"
    }
   ],
   "source": [
    "%matplotlib inline\n",
    "tweets_train.Category.value_counts().plot(kind=\"bar\", rot=0)"
   ]
  },
  {
   "cell_type": "markdown",
   "metadata": {},
   "source": [
    "Tokenisation function and helpers"
   ]
  },
  {
   "cell_type": "code",
   "execution_count": 33,
   "metadata": {
    "collapsed": false
   },
   "outputs": [],
   "source": [
    "stopwords = [\"a\", \"about\", \"after\", \"all\", \"am\", \"an\", \"and\", \"any\", \"are\", \"as\", \"at\", \"be\", \"because\", \"been\",\n",
    "            \"before\", \"being\", \"between\", \"both\", \"by\", \"could\", \"did\", \"do\", \"does\", \"doing\", \"during\", \"each\",\n",
    "            \"for\", \"from\", \"further\", \"had\", \"has\", \"have\", \"having\", \"he\", \"he'd\", \"he'll\", \"he's\", \"her\", \"here\",\n",
    "            \"here's\", \"hers\", \"herself\", \"him\", \"himself\", \"his\", \"how\", \"how's\", \"i\", \"i'd\", \"i'll\", \"i'm\", \"i've\",\n",
    "            \"in\", \"into\", \"is\", \"it\", \"it's\", \"its\", \"itself\", \"let's\", \"me\", \"more\", \"most\", \"my\", \"myself\", \"of\",\n",
    "            \"on\", \"once\", \"only\", \"or\", \"other\", \"ought\", \"our\", \"ours\", \"ourselves\", \"own\", \"shan't\", \"she\", \"she'd\",\n",
    "            \"she'll\", \"she's\", \"should\", \"so\", \"some\", \"such\", \"than\", \"that\", \"that's\", \"the\", \"their\", \"theirs\",\n",
    "            \"them\", \"themselves\", \"then\", \"there\", \"there's\", \"these\", \"they\", \"they'd\", \"they'll\", \"they're\",\n",
    "            \"they've\", \"this\", \"those\", \"through\", \"to\", \"until\", \"up\", \"very\", \"was\", \"wasn't\", \"we\", \"we'd\",\n",
    "            \"we'll\", \"we're\", \"we've\", \"were\", \"weren't\", \"what\", \"what's\", \"when\", \"when's\", \"where\", \"where's\",\n",
    "            \"which\", \"while\", \"who\", \"who's\", \"whom\", \"with\", \"would\", \"you\", \"you'd\", \"you'll\", \"you're\", \"you've\",\n",
    "            \"your\", \"yours\", \"yourself\", \"yourselves\", \"above\", \"again\", \"against\", \"aren't\", \"below\", \"but\", \"can't\",\n",
    "            \"cannot\", \"couldn't\", \"didn't\", \"doesn't\", \"don't\", \"down\", \"few\", \"hadn't\", \"hasn't\", \"haven't\", \"if\",\n",
    "            \"isn't\", \"mustn't\", \"not\", \"no\", \"nor\", \"off\", \"out\", \"over\", \"shouldn't\", \"same\", \"too\", \"under\", \"why\",\n",
    "            \"why's\", \"won't\", \"wouldn't\"]\n",
    "\n",
    "RE_HTTP = re.compile(\"http(s)?://[/\\.a-z0-9]+\")\n",
    "RE_HASHTAG = re.compile(\"[@#][_a-z0-9]+\")\n",
    "RE_EMOTICONS = re.compile(\"(:-?\\))|(:p)|(:d+)|(:-?\\()|(:/)|(;-?\\))|(<3)|(=\\))|(\\)-?:)|(:'\\()|(8\\))\")\n",
    "\n",
    "def prepare_text(text):\n",
    "    replacers = {'&nbsp;': ' ', '&lt;': '<', '&gt;': '>', '&amp;': '&', '&pound;': u'£', \n",
    "                 '&euro;': u'€', '&copy;': u'©', '&reg;': u'®'}\n",
    "    for r in replacers.keys():\n",
    "        text = text.replace(r, replacers[r])\n",
    "    return text\n",
    "\n",
    "def contains_punctuation(text, translator):\n",
    "    return (text.translate(translator) != text)\n",
    "    \n",
    "def tokenize_tweet(text):\n",
    "    # replace broken characters\n",
    "    text = prepare_text(text)\n",
    "    #tokenize with tweet tokenizer\n",
    "    tknz = nltk.tokenize.TweetTokenizer()\n",
    "    tokens = tknz.tokenize(text.lower())\n",
    "    # drop urls\n",
    "    tokens = [token for token in tokens if not RE_HTTP.search(token)]\n",
    "    # drop hashtags\n",
    "    tokens = [token for token in tokens if not RE_HASHTAG.search(token)]\n",
    "    # drop stopwords\n",
    "    #tokens = [token for token in tokens if token not in stopwords]\n",
    "    # drop punctuation (but not emoticons!)\n",
    "    translator = str.maketrans('', '', string.punctuation)\n",
    "    tokens = [token for token in tokens if RE_EMOTICONS.search(token) or not contains_punctuation(token, translator)]\n",
    "    return tokens"
   ]
  },
  {
   "cell_type": "markdown",
   "metadata": {},
   "source": [
    "Tokenize"
   ]
  },
  {
   "cell_type": "code",
   "execution_count": 34,
   "metadata": {
    "collapsed": false
   },
   "outputs": [],
   "source": [
    "train_tokenized = [tokenize_tweet(x) for x in tweets_train['Tweet'] if isinstance(x, str)]\n",
    "test_tokenized = [tokenize_tweet(x) for x in tweets_test['Tweet'] if isinstance(x, str)]"
   ]
  },
  {
   "cell_type": "code",
   "execution_count": 35,
   "metadata": {
    "collapsed": false
   },
   "outputs": [
    {
     "name": "stdout",
     "output_type": "stream",
     "text": [
      "[['ios', '9', 'app', 'transport', 'security', 'mm', 'need', 'to', 'check', 'if', 'my', '3rd', 'party', 'network', 'pod', 'supports', 'it'], ['mar', 'if', 'you', 'have', 'an', 'ios', 'device', 'you', 'should', 'download', 'our', 'app', 'too'], ['my', 'phone', 'does', 'not', 'run', 'on', 'latest', 'ios', 'which', 'may', 'account', 'for', 'problem', 'the', 'other', 'day', 'time', 'it', 'was', 'replaced'], ['not', 'sure', 'how', 'to', 'start', 'your', 'publication', 'on', 'ios', 'be', 'live', 'helping', 'with', 'ask', 'me', 'anything', 'sessions', 'today', 'and', 'friday'], ['two', 'dollar', 'tuesday', 'is', 'here', 'with', 'forklift', '2', 'quickkey', 'for', 'ios', 'and', 'suite', 'for', 'pages', 'for', 'just', 'today'], ['if', 'not', 'already', 'signed', 'up', 'to', 'test', 'my', 'ios', 'game', 'nows', 'your', 'chance']]\n"
     ]
    }
   ],
   "source": [
    "print(train_tokenized[0:6])"
   ]
  },
  {
   "cell_type": "markdown",
   "metadata": {},
   "source": [
    "Create model"
   ]
  },
  {
   "cell_type": "code",
   "execution_count": 36,
   "metadata": {
    "collapsed": false
   },
   "outputs": [
    {
     "name": "stderr",
     "output_type": "stream",
     "text": [
      "2017-01-19 15:51:23,987 : INFO : collecting all words and their counts\n",
      "2017-01-19 15:51:23,989 : INFO : PROGRESS: at sentence #0, processed 0 words, keeping 0 word types\n",
      "2017-01-19 15:51:24,037 : INFO : collected 10431 word types from a corpus of 97575 raw words and 5422 sentences\n",
      "2017-01-19 15:51:24,041 : INFO : Loading a fresh vocabulary\n",
      "2017-01-19 15:51:24,074 : INFO : min_count=3 retains 3183 unique words (30% of original 10431, drops 7248)\n",
      "2017-01-19 15:51:24,075 : INFO : min_count=3 leaves 88817 word corpus (91% of original 97575, drops 8758)\n",
      "2017-01-19 15:51:24,108 : INFO : deleting the raw counts dictionary of 10431 items\n",
      "2017-01-19 15:51:24,109 : INFO : sample=0.001 downsamples 49 most-common words\n",
      "2017-01-19 15:51:24,111 : INFO : downsampling leaves estimated 67877 word corpus (76.4% of prior 88817)\n",
      "2017-01-19 15:51:24,114 : INFO : estimated required memory for 3183 words and 200 dimensions: 6684300 bytes\n",
      "2017-01-19 15:51:24,133 : INFO : resetting layer weights\n",
      "2017-01-19 15:51:24,213 : INFO : training model with 4 workers on 3183 vocabulary and 200 features, using sg=0 hs=0 sample=0.001 negative=5 window=4\n",
      "2017-01-19 15:51:24,214 : INFO : expecting 5422 sentences, matching count from corpus used for vocabulary survey\n",
      "2017-01-19 15:51:25,224 : INFO : PROGRESS: at 11.26% examples, 228757 words/s, in_qsize 8, out_qsize 0\n",
      "2017-01-19 15:51:26,235 : INFO : PROGRESS: at 22.18% examples, 224300 words/s, in_qsize 7, out_qsize 0\n",
      "2017-01-19 15:51:27,236 : INFO : PROGRESS: at 33.78% examples, 228183 words/s, in_qsize 7, out_qsize 0\n",
      "2017-01-19 15:51:28,245 : INFO : PROGRESS: at 45.05% examples, 227837 words/s, in_qsize 7, out_qsize 0\n",
      "2017-01-19 15:51:29,254 : INFO : PROGRESS: at 57.33% examples, 231951 words/s, in_qsize 7, out_qsize 0\n",
      "2017-01-19 15:51:30,288 : INFO : PROGRESS: at 69.97% examples, 234758 words/s, in_qsize 7, out_qsize 0\n",
      "2017-01-19 15:51:31,334 : INFO : PROGRESS: at 82.25% examples, 235435 words/s, in_qsize 7, out_qsize 0\n",
      "2017-01-19 15:51:32,357 : INFO : PROGRESS: at 94.53% examples, 236581 words/s, in_qsize 7, out_qsize 0\n",
      "2017-01-19 15:51:32,695 : INFO : worker thread finished; awaiting finish of 3 more threads\n",
      "2017-01-19 15:51:32,706 : INFO : worker thread finished; awaiting finish of 2 more threads\n",
      "2017-01-19 15:51:32,724 : INFO : worker thread finished; awaiting finish of 1 more threads\n",
      "2017-01-19 15:51:32,763 : INFO : worker thread finished; awaiting finish of 0 more threads\n",
      "2017-01-19 15:51:32,764 : INFO : training on 2927250 raw words (2035983 effective words) took 8.5s, 238328 effective words/s\n",
      "2017-01-19 15:51:32,766 : INFO : precomputing L2-norms of word weight vectors\n"
     ]
    }
   ],
   "source": [
    "model = gensim.models.Word2Vec(train_tokenized, size=200, window=4, min_count=3, iter=30, workers=4)\n",
    "model.init_sims(replace=True)"
   ]
  },
  {
   "cell_type": "markdown",
   "metadata": {},
   "source": [
    "Count average word vector in tweet"
   ]
  },
  {
   "cell_type": "code",
   "execution_count": 37,
   "metadata": {
    "collapsed": true
   },
   "outputs": [],
   "source": [
    "def word_averaging(wv, words):\n",
    "    all_words, mean = set(), []\n",
    "    \n",
    "    for word in words:\n",
    "        if isinstance(word, np.ndarray):\n",
    "            mean.append(word)\n",
    "        elif word in wv.vocab:\n",
    "            mean.append(wv.syn0norm[wv.vocab[word].index])\n",
    "            all_words.add(wv.vocab[word].index)\n",
    "\n",
    "    if not mean:\n",
    "        logging.warning(\"cannot compute similarity with no input %s\", words)\n",
    "        return np.zeros(wv.layer_size,)\n",
    "\n",
    "    mean = gensim.matutils.unitvec(np.array(mean).mean(axis=0)).astype(np.float32)\n",
    "    return mean\n",
    "\n",
    "def  word_averaging_list(wv, text_list):\n",
    "    return np.vstack([word_averaging(wv, text) for text in text_list])"
   ]
  },
  {
   "cell_type": "code",
   "execution_count": 38,
   "metadata": {
    "collapsed": false
   },
   "outputs": [],
   "source": [
    "X_train_word_average = word_averaging_list(model.wv,train_tokenized)\n",
    "X_test_word_average = word_averaging_list(model.wv,test_tokenized)"
   ]
  },
  {
   "cell_type": "code",
   "execution_count": 39,
   "metadata": {
    "collapsed": false
   },
   "outputs": [
    {
     "name": "stdout",
     "output_type": "stream",
     "text": [
      "[[-0.06783559 -0.07318275 -0.04694032 ..., -0.0491212  -0.01461332\n",
      "   0.00671249]\n",
      " [-0.00764339 -0.09340752 -0.07280925 ..., -0.0804297  -0.01822649\n",
      "  -0.00611928]\n",
      " [-0.04565764 -0.15492409 -0.17064734 ...,  0.06155074  0.09368764\n",
      "   0.1140742 ]\n",
      " ..., \n",
      " [ 0.02817192 -0.04598491 -0.00250292 ..., -0.04012828  0.01079136\n",
      "  -0.00886637]\n",
      " [-0.04565764 -0.15492409 -0.17064734 ...,  0.06155074  0.09368764\n",
      "   0.1140742 ]\n",
      " [ 0.02861984 -0.12866679 -0.09564702 ..., -0.10849581  0.03107977\n",
      "  -0.0278804 ]]\n"
     ]
    }
   ],
   "source": [
    "print(X_test_word_average)"
   ]
  },
  {
   "cell_type": "markdown",
   "metadata": {},
   "source": [
    "Create classification model and predict"
   ]
  },
  {
   "cell_type": "code",
   "execution_count": 41,
   "metadata": {
    "collapsed": false
   },
   "outputs": [],
   "source": [
    "logreg = LogisticRegression(n_jobs=-1, C=1e4)\n",
    "\n",
    "logreg = logreg.fit(X_train_word_average, tweets_train['Category'])\n",
    "predicted = logreg.predict(X_test_word_average)"
   ]
  },
  {
   "cell_type": "markdown",
   "metadata": {},
   "source": [
    "Export predicted values to CSV file"
   ]
  },
  {
   "cell_type": "code",
   "execution_count": 42,
   "metadata": {
    "collapsed": false
   },
   "outputs": [
    {
     "name": "stdout",
     "output_type": "stream",
     "text": [
      "                      Id  Category\n",
      "0     628949369883000832  positive\n",
      "1     628976607420645377  positive\n",
      "2     629023169169518592  positive\n",
      "3     629179223232479232  positive\n",
      "4     629186282179153920   neutral\n",
      "5     629226490152914944   neutral\n",
      "6     629345637155360768  positive\n",
      "7     629394528336637953  positive\n",
      "8     629650766580609026  positive\n",
      "9     629797991826722816   neutral\n",
      "10    630159517058142208  positive\n",
      "11    630542330827771904   neutral\n",
      "12    630636736746422272  positive\n",
      "13    630807124872970240  positive\n",
      "14    630818265799921664  positive\n",
      "15    630909171437801472  negative\n",
      "16    630982270409572352   neutral\n",
      "17    631104156187627520   neutral\n",
      "18    631223085476261890  negative\n",
      "19    631368262979297281   neutral\n",
      "20    631521079245307904  positive\n",
      "21    631543121407442946   neutral\n",
      "22    631696872323850240  positive\n",
      "23    631792365590695936  positive\n",
      "24    631842974268305408  positive\n",
      "25    631843393971204097  positive\n",
      "26    631936716522278912   neutral\n",
      "27    632374683334258688   neutral\n",
      "28    632536348419690496   neutral\n",
      "29    632805868334153728   neutral\n",
      "...                  ...       ...\n",
      "3970  639287851725619200  positive\n",
      "3971  639319688070086656  positive\n",
      "3972  639431507363414016  positive\n",
      "3973  639564269420331008  positive\n",
      "3974  639639485207019520  positive\n",
      "3975  639645064633823233  positive\n",
      "3976  639666970229473280  positive\n",
      "3977  639808591529033729  positive\n",
      "3978  639821082497818625  positive\n",
      "3979  640020822313304064   neutral\n",
      "3980  640173861078626304  positive\n",
      "3981  640212997596549120   neutral\n",
      "3982  640475498137518080   neutral\n",
      "3983  640477314023723010   neutral\n",
      "3984  640689013788176384  positive\n",
      "3985  640704945134661636  positive\n",
      "3986  640705879520636928  positive\n",
      "3987  640728268254019584  positive\n",
      "3988  640731830300340224  positive\n",
      "3989  640758594959450112  positive\n",
      "3990  641064131706122240  positive\n",
      "3991  641087370872422401  positive\n",
      "3992  641089872426631168   neutral\n",
      "3993  641254971401502720   neutral\n",
      "3994  641371402348679168   neutral\n",
      "3995  641411385700712448  positive\n",
      "3996  641452712098406400  positive\n",
      "3997  635369700298498048   neutral\n",
      "3998  635769805279248384  positive\n",
      "3999  635930169241374720   neutral\n",
      "\n",
      "[4000 rows x 2 columns]\n"
     ]
    }
   ],
   "source": [
    "predicted_df = pd.DataFrame(predicted, columns=['Category'])\n",
    "id_df = pd.DataFrame(tweets_test['Id'][0:len(test_tokenized)])\n",
    "final = pd.concat([id_df, predicted_df], axis=1)\n",
    "print(final)\n",
    "final.to_csv(path_or_buf=\"data/my_submission.csv\", sep=',', index=False)"
   ]
  },
  {
   "cell_type": "markdown",
   "metadata": {},
   "source": [
    "Following code was used to test accuracy on train data"
   ]
  },
  {
   "cell_type": "raw",
   "metadata": {
    "collapsed": false
   },
   "source": [
    "from sklearn.model_selection import train_test_split\n",
    "from sklearn.metrics import accuracy_score, confusion_matrix\n",
    "from scipy.sparse import csr_matrix\n",
    "from sklearn.ensemble import RandomForestClassifier\n",
    "from sklearn.metrics import f1_score, precision_score, recall_score\n",
    "\n",
    "def print_accuracy(actual, predicted):\n",
    "    print('Trafność klasyfikacji %s' % accuracy_score(actual, predicted))\n",
    "    cm = confusion_matrix(actual, predicted)\n",
    "    print('Macierz pomyłek\\n %s\\n' % cm)\n",
    "    list_of_labels = list(set(actual))\n",
    "    print(\"            Positive    Neutral     Negative   \")\n",
    "    print(\"F1       \", f1_score(actual, predicted, average=None, pos_label=None, labels=list_of_labels))\n",
    "    print(\"Precision\", precision_score(actual, predicted, average=None, pos_label=None, labels=list_of_labels))\n",
    "    print(\"Recall   \", recall_score(actual, predicted, average=None, pos_label=None, labels=list_of_labels))\n",
    "    \n",
    "    \n",
    "xtr, xte, ytr, yte = train_test_split(tweets_train['Tweet'], tweets_train['Category'], test_size=0.1, random_state=41)\n",
    "xtrt = [tokenize_tweet(x) for x in xtr]\n",
    "xtet = [tokenize_tweet(x) for x in xte]\n",
    "xtra = word_averaging_list(model.wv,xtrt)\n",
    "xtea = word_averaging_list(model.wv,xtet)\n",
    "\n",
    "logreg = LogisticRegression(n_jobs=-1, C=1e4)\n",
    "logreg = logreg.fit(xtra, ytr)\n",
    "predicted = logreg.predict(xtea)\n",
    "print_accuracy(yte, predicted)"
   ]
  },
  {
   "cell_type": "code",
   "execution_count": null,
   "metadata": {
    "collapsed": true
   },
   "outputs": [],
   "source": []
  }
 ],
 "metadata": {
  "anaconda-cloud": {},
  "kernelspec": {
   "display_name": "Python [conda root]",
   "language": "python",
   "name": "conda-root-py"
  },
  "language_info": {
   "codemirror_mode": {
    "name": "ipython",
    "version": 3
   },
   "file_extension": ".py",
   "mimetype": "text/x-python",
   "name": "python",
   "nbconvert_exporter": "python",
   "pygments_lexer": "ipython3",
   "version": "3.5.2"
  }
 },
 "nbformat": 4,
 "nbformat_minor": 0
}
